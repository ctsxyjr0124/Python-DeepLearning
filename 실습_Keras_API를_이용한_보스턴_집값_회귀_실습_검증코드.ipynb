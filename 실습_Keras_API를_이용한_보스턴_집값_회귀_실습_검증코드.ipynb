{
  "nbformat": 4,
  "nbformat_minor": 0,
  "metadata": {
    "colab": {
      "name": "실습 : Keras API를 이용한 보스턴 집값 회귀 실습_검증코드.ipynb",
      "provenance": [],
      "collapsed_sections": []
    },
    "kernelspec": {
      "name": "python3",
      "display_name": "Python 3"
    },
    "language_info": {
      "name": "python"
    }
  },
  "cells": [
    {
      "cell_type": "code",
      "metadata": {
        "id": "JY0_jARy43Se"
      },
      "source": [
        "import pandas as pd\n",
        "import tensorflow as tf\n",
        "from tensorflow.keras.datasets import boston_housing\n",
        "from tensorflow.keras import layers, models\n",
        "\"\"\"* Step 1. Inptu tensor 와 Target tensor 준비(훈련데이터)\"\"\"\n",
        "\n",
        "# 수강생 작성 코드\n",
        "# 1. import 한 boston_housing API를 이용하여 boston_housing 데이터 셋을 다운로드 받으세요\n",
        "(train_x, train_y), (test_x, test_y) = boston_housing.load_data()\n",
        "\"\"\"* Step 2. 데이터의 전처리 \"\"\"\n",
        "\n",
        "# 수강생 작성 코드\n",
        "# 1. train 데이터의 feature 별 평균값, 표준편차 값을 이용하여 정규화 작업을 진행하세요\n",
        "mean = train_x.mean(axis=0)\n",
        "train_x -= mean\n",
        "std = train_x.std(axis=0)\n",
        "train_x /= std\n",
        "\n",
        "test_x -= mean\n",
        "test_x /= std\n",
        "\n",
        "\"\"\"* Step 3. DNN(MLP) 모델 디자인\"\"\"\n",
        "\n",
        "# 수강생 작성 코드\n",
        "# 1. Sequential API를 이용하여 boston_housing 데이터 셋을 분석 하기 위한 MLP 모델을 디자인 하세요\n",
        "model = models.Sequential()\n",
        "model.add(layers.Dense(units=64 ,activation='relu', input_shape=(train_x.shape[1],)))\n",
        "model.add(layers.Dense(units=32, activation='relu'))\n",
        "model.add(layers.Dense(units=1))\n",
        "\n",
        "\n",
        "\"\"\"* Step 4. 모델의 학습 정보 설정\"\"\"\n",
        "\n",
        "# 수강생 작성 코드\n",
        "# 1. tf.keras.Model 객체의 compile 메서드를 이용하여 학습을 위한 정보들을 설정하세요\n",
        "#   - optimizer\n",
        "#   - loss\n",
        "#   - metrics : 체점 기준인 MAE 로 설정\n",
        "model.compile(loss='mse',\n",
        "              optimizer='rmsprop',\n",
        "              metrics=['mae'])\n",
        "\n",
        "\n",
        "\"\"\"* Step 5. 모델에 input, target 데이터 연결 후 학습\"\"\"\n",
        "\n",
        "# 수강생 작성 코드\n",
        "# 1. tf.keras.Model 객체의 fit 메서드를 이용하여 모델을 학습하세요\n",
        "#   - fit 메서드의 verbose=2 로 설정 하세요\n",
        "history = model.fit(\n",
        "    x=train_x, y=train_y, verbose=2, epochs=100\n",
        ")\n",
        "\n",
        "\n",
        "\"\"\"* 모델 제출 \"\"\"\n",
        "\n",
        "# 학습된 모델을 제출하기 위한 코드 입니다. 수정하지 마세요\n",
        "model.save('my_model.h5')"
      ],
      "execution_count": null,
      "outputs": []
    }
  ]
}