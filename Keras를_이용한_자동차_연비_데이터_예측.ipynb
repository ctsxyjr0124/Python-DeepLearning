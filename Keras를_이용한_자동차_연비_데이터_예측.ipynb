{
  "nbformat": 4,
  "nbformat_minor": 0,
  "metadata": {
    "colab": {
      "name": "Keras를 이용한 자동차 연비 데이터 예측.ipynb",
      "private_outputs": true,
      "provenance": [],
      "collapsed_sections": [],
      "toc_visible": true
    },
    "kernelspec": {
      "name": "python3",
      "display_name": "Python 3"
    },
    "language_info": {
      "name": "python"
    },
    "accelerator": "GPU"
  },
  "cells": [
    {
      "cell_type": "code",
      "metadata": {
        "id": "J46UUdew64hH"
      },
      "source": [
        "!nvidia-smi"
      ],
      "execution_count": null,
      "outputs": []
    },
    {
      "cell_type": "code",
      "metadata": {
        "id": "soBgGms-7W0L"
      },
      "source": [
        "import matplotlib.pyplot as plt\n",
        "import pandas as pd\n",
        "\n",
        "import tensorflow as tf\n",
        "from tensorflow.keras import layers, models"
      ],
      "execution_count": null,
      "outputs": []
    },
    {
      "cell_type": "code",
      "metadata": {
        "id": "H4zWbhCievD0"
      },
      "source": [
        "print(tf.__version__)"
      ],
      "execution_count": null,
      "outputs": []
    },
    {
      "cell_type": "markdown",
      "metadata": {
        "id": "TELioZPP7XbC"
      },
      "source": [
        "#1-1 inpiut tensor와 target tensor 준비(훈련데이터)\n",
        "\n"
      ]
    },
    {
      "cell_type": "code",
      "metadata": {
        "id": "K3_x2fMMe_g3"
      },
      "source": [
        "auto_mpg_dataset_url = \"https://archive.ics.uci.edu/ml/machine-learning-databases/auto-mpg/auto-mpg.data\"\n",
        "dataset_path = tf.keras.utils.get_file(\"/content/auto-mpg.data\", auto_mpg_dataset_url)\n",
        "print(dataset_path)"
      ],
      "execution_count": null,
      "outputs": []
    },
    {
      "cell_type": "code",
      "metadata": {
        "id": "j9GEymLpgp6P"
      },
      "source": [
        "#자동차 연비 데이처 셋의 컬럼명\n",
        "column_names = ['MPG','Cylinders','Displacement','Horsepower',\n",
        "                'Weight','Acceleration','Model Year','Origin']\n",
        "\n",
        "raw_dataset=pd.read_csv(dataset_path, names=column_names, na_values='?',\n",
        "            comment='\\t', sep=' ', skipinitialspace=True)\n",
        "dataset = raw_dataset.copy()\n",
        "dataset"
      ],
      "execution_count": null,
      "outputs": []
    },
    {
      "cell_type": "markdown",
      "metadata": {
        "id": "_AZxwg-YiKNr"
      },
      "source": [
        "#1-2 입력 데이터의 전처리"
      ]
    },
    {
      "cell_type": "markdown",
      "metadata": {
        "id": "PRXhmWsuiN_k"
      },
      "source": [
        "##데이터 셋 내의 NaN값 제거"
      ]
    },
    {
      "cell_type": "code",
      "metadata": {
        "id": "IdtbWE0ziNeX"
      },
      "source": [
        "#데이터 셋 내의 NaN값 체크\n",
        "dataset.isna().sum()"
      ],
      "execution_count": null,
      "outputs": []
    },
    {
      "cell_type": "code",
      "metadata": {
        "id": "9u-M0V-LiIYF"
      },
      "source": [
        "#데이터 셋 내의 NaN값 제거\n",
        "dataset.dropna(inplace=True)\n"
      ],
      "execution_count": null,
      "outputs": []
    },
    {
      "cell_type": "code",
      "metadata": {
        "id": "fZzX1x2wkdjG"
      },
      "source": [
        "len(dataset)"
      ],
      "execution_count": null,
      "outputs": []
    },
    {
      "cell_type": "code",
      "metadata": {
        "id": "jr4i2x1hkgL_"
      },
      "source": [
        "dataset.isna().sum()"
      ],
      "execution_count": null,
      "outputs": []
    },
    {
      "cell_type": "markdown",
      "metadata": {
        "id": "62rLRcpBkmi2"
      },
      "source": [
        "##데이터셋에서 20% 선택해 test데이터 셋으로 분할"
      ]
    },
    {
      "cell_type": "code",
      "metadata": {
        "id": "MRoqqK7akl5t"
      },
      "source": [
        "train_dataset = dataset.sample(frac=0.8, random_state=0)\n",
        "test_dataset = dataset.drop(train_dataset.index)"
      ],
      "execution_count": null,
      "outputs": []
    },
    {
      "cell_type": "code",
      "metadata": {
        "id": "MkB51yLXlBWU"
      },
      "source": [
        "print(len(train_dataset))\n",
        "print(len(test_dataset))"
      ],
      "execution_count": null,
      "outputs": []
    },
    {
      "cell_type": "markdown",
      "metadata": {
        "id": "9mIVaACElNLS"
      },
      "source": [
        "##표준화를 통한 input tensor의 전처리"
      ]
    },
    {
      "cell_type": "code",
      "metadata": {
        "id": "Up9R3IyMlM5-"
      },
      "source": [
        "#데이터 전처리를 위한 통계정보 생성\n",
        "train_stats = train_dataset.describe()"
      ],
      "execution_count": null,
      "outputs": []
    },
    {
      "cell_type": "code",
      "metadata": {
        "id": "WL-4VFU3lVM3"
      },
      "source": [
        "train_stats"
      ],
      "execution_count": null,
      "outputs": []
    },
    {
      "cell_type": "code",
      "metadata": {
        "id": "TW3SaROllVgP"
      },
      "source": [
        "#정답 데이터(MPG-연비)제거\n",
        "train_stats.pop('MPG')"
      ],
      "execution_count": null,
      "outputs": []
    },
    {
      "cell_type": "code",
      "metadata": {
        "id": "Uhva-W-Yl6FV"
      },
      "source": [
        "train_stats"
      ],
      "execution_count": null,
      "outputs": []
    },
    {
      "cell_type": "code",
      "metadata": {
        "id": "eU70InN0lah9"
      },
      "source": [
        "#각 특성 별 통계정보를 가공하기 쉽도록 matrix 전치\n",
        "train_stats = train_stats.transpose()"
      ],
      "execution_count": null,
      "outputs": []
    },
    {
      "cell_type": "code",
      "metadata": {
        "id": "8seEIv7AlfnL"
      },
      "source": [
        "train_stats"
      ],
      "execution_count": null,
      "outputs": []
    },
    {
      "cell_type": "code",
      "metadata": {
        "id": "XVDUfHg4l-i0"
      },
      "source": [
        "#target tensor를 위한 연비 값(MPG)추출\n",
        "train_labels = train_dataset.pop('MPG')\n",
        "test_labels = test_dataset.pop('MPG')"
      ],
      "execution_count": null,
      "outputs": []
    },
    {
      "cell_type": "code",
      "metadata": {
        "id": "XvnVp7rRmC4b"
      },
      "source": [
        "#input tensor의 표준화(평균 =0, 표준편차 =1)함수 정의\n",
        "def norm(x):\n",
        "  normed_data =(x-train_stats['mean']/train_stats['std'])\n",
        "  return normed_data"
      ],
      "execution_count": null,
      "outputs": []
    },
    {
      "cell_type": "code",
      "metadata": {
        "id": "qGU3OpKimNaL"
      },
      "source": [
        "#input tensor의 특성 정보 표준화 처리 수행\n",
        "train_dataset = norm(train_dataset)\n",
        "test_dataset = norm(test_dataset)"
      ],
      "execution_count": null,
      "outputs": []
    },
    {
      "cell_type": "code",
      "metadata": {
        "id": "ABb0NY_RnbAF"
      },
      "source": [
        "train_dataset.describe()"
      ],
      "execution_count": null,
      "outputs": []
    },
    {
      "cell_type": "markdown",
      "metadata": {
        "id": "Kh1PYfjMngW-"
      },
      "source": [
        "#2. DNN(MLP) 모델 디자인"
      ]
    },
    {
      "cell_type": "code",
      "metadata": {
        "id": "vdQOyWddnmLT"
      },
      "source": [
        "#hidden layer : 2개 [64,32], activation : relu\n",
        "model = models.Sequential()\n",
        "model.add(layers.Dense(units = 64, activation='relu',\n",
        "                       input_shape=(len(train_dataset.keys()),)))\n",
        "model.add(layers.Dense(units=32, activation='relu'))\n",
        "model.add(layers.Dense(units=1))"
      ],
      "execution_count": null,
      "outputs": []
    },
    {
      "cell_type": "code",
      "metadata": {
        "id": "5vj94LFrpk3M"
      },
      "source": [
        "model.summary()"
      ],
      "execution_count": null,
      "outputs": []
    },
    {
      "cell_type": "markdown",
      "metadata": {
        "id": "59EjzgHxn4vq"
      },
      "source": [
        "#3. 모델의 학습 정보 설정"
      ]
    },
    {
      "cell_type": "code",
      "metadata": {
        "id": "oOPPAWvln7JN"
      },
      "source": [
        "#loss : MSE/ optimizer : rmsprop/ metric : MAE\n",
        "model.compile(loss='mse',\n",
        "              optimizer='rmsprop',\n",
        "              metrics=['mae'])"
      ],
      "execution_count": null,
      "outputs": []
    },
    {
      "cell_type": "markdown",
      "metadata": {
        "id": "hxWWU0Agn7sj"
      },
      "source": [
        "#4. 모델에 input,target 데이터 연결 후 학습"
      ]
    },
    {
      "cell_type": "code",
      "metadata": {
        "id": "GLlG84j3oCZj"
      },
      "source": [
        "# batch size : 16, epochs : 100, validation data set percent : 20%\n",
        "history = model.fit(\n",
        "    x=train_dataset, y=train_labels,\n",
        "    batch_size=16, epochs=100,\n",
        "    validation_split=0.2\n",
        ")"
      ],
      "execution_count": null,
      "outputs": []
    },
    {
      "cell_type": "markdown",
      "metadata": {
        "id": "GXRx1oUboBKP"
      },
      "source": [
        "#학습과정의 시각화 및 성능 테스트"
      ]
    },
    {
      "cell_type": "code",
      "metadata": {
        "id": "GTs3BvafoG4P"
      },
      "source": [
        "hist = pd.DataFrame(history.history)\n",
        "hist"
      ],
      "execution_count": null,
      "outputs": []
    },
    {
      "cell_type": "code",
      "metadata": {
        "id": "Ec1Co0W7rfLn"
      },
      "source": [
        "#학습과정 시각화를 위한 정보 추출\n",
        "loss = history.history['loss']\n",
        "val_loss = history.history['val_loss']\n",
        "\n",
        "mae = history.history['mae']\n",
        "val_mae = history.history['val_mae']"
      ],
      "execution_count": null,
      "outputs": []
    },
    {
      "cell_type": "code",
      "metadata": {
        "id": "8ONsfe_YrGxd"
      },
      "source": [
        "# 차트의 x축을 위한 epoch정보 생성\n",
        "epochs = range(1, len(loss)+1)"
      ],
      "execution_count": null,
      "outputs": []
    },
    {
      "cell_type": "code",
      "metadata": {
        "id": "_kaLzQTXrLWn"
      },
      "source": [
        "#loss 정보 시각화\n",
        "plt.plot(epochs,loss,label='Training loss')\n",
        "plt.plot(epochs,val_loss,label='Validation loss')\n",
        "plt.title('Training and validation loss')\n",
        "plt.ylim([0,20])\n",
        "plt.legend()\n",
        "\n",
        "plt.show()"
      ],
      "execution_count": null,
      "outputs": []
    },
    {
      "cell_type": "code",
      "metadata": {
        "id": "qvEYEMxCsmrD"
      },
      "source": [
        "#MAE 정보 시각화\n",
        "plt.plot(epochs,mae,label='Training mae')\n",
        "plt.plot(epochs,val_mae,label='Validation mae')\n",
        "plt.title('Training and validation mae')\n",
        "plt.xlim([1,100])\n",
        "plt.ylim([0,5])\n",
        "plt.legend()\n",
        "\n",
        "plt.show()"
      ],
      "execution_count": null,
      "outputs": []
    },
    {
      "cell_type": "code",
      "metadata": {
        "id": "IDZeflzNs4sQ"
      },
      "source": [
        "#테스트 데이터 셋을 통한 성능 측정\n",
        "test_loss, test_mae = model.evaluate(x=test_dataset, y=test_labels)"
      ],
      "execution_count": null,
      "outputs": []
    },
    {
      "cell_type": "code",
      "metadata": {
        "id": "IeX008D9tHt7"
      },
      "source": [
        "#테스트 데이터 셋의 정답과 모델의 예측값 분석을 위한 모델의 예측값 생성\n",
        "test_predictions = model.predict(test_dataset).flatten()"
      ],
      "execution_count": null,
      "outputs": []
    },
    {
      "cell_type": "code",
      "metadata": {
        "id": "SauFs3YwteC9"
      },
      "source": [
        "#테스트 데이터 셋의 정답과 모델의 예측값을 이용한 상관관계 시각화\n",
        "plt.scatter(test_labels, test_predictions)\n",
        "plt.xlabel('True values [MPG]')\n",
        "plt.ylabel('Predictions [MPG')\n",
        "plt.axis('equal')\n",
        "plt.axis('square')\n",
        "plt.xlim([0,50])\n",
        "plt.ylim([0,50])\n",
        "_ = plt.plot([-100,100],[-100,100])"
      ],
      "execution_count": null,
      "outputs": []
    }
  ]
}