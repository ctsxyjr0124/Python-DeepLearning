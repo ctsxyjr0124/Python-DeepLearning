{
  "nbformat": 4,
  "nbformat_minor": 0,
  "metadata": {
    "colab": {
      "name": "DNN 모델을 이용한 MNIST 데이터 셋 분류.ipynb",
      "provenance": [],
      "collapsed_sections": []
    },
    "kernelspec": {
      "name": "python3",
      "display_name": "Python 3"
    }
  },
  "cells": [
    {
      "cell_type": "markdown",
      "metadata": {
        "id": "hm_NQVc-HR4r"
      },
      "source": [
        "# DNN 모델을 이용한 MNIST 데이터 셋 분류"
      ]
    },
    {
      "cell_type": "code",
      "metadata": {
        "id": "MBVhJ8ESHi7o"
      },
      "source": [
        "import tensorflow\n",
        "from tensorflow.keras.datasets import mnist\n",
        "import matplotlib.pyplot as plt"
      ],
      "execution_count": null,
      "outputs": []
    },
    {
      "cell_type": "markdown",
      "metadata": {
        "id": "Lbil1MQNHJCH"
      },
      "source": [
        "## 1-1. input tensor, target sensor 준비"
      ]
    },
    {
      "cell_type": "code",
      "metadata": {
        "colab": {
          "base_uri": "https://localhost:8080/"
        },
        "id": "Mti33FE9HQT3",
        "outputId": "d81132c8-7cf1-4092-feba-41161f5c5f3a"
      },
      "source": [
        "(train_images, train_labels), (test_images, test_labels) = mnist.load_data()"
      ],
      "execution_count": null,
      "outputs": [
        {
          "output_type": "stream",
          "text": [
            "Downloading data from https://storage.googleapis.com/tensorflow/tf-keras-datasets/mnist.npz\n",
            "11493376/11490434 [==============================] - 0s 0us/step\n"
          ],
          "name": "stdout"
        }
      ]
    },
    {
      "cell_type": "code",
      "metadata": {
        "colab": {
          "base_uri": "https://localhost:8080/"
        },
        "id": "DGtcmh50IT42",
        "outputId": "c1740236-5f0d-4d1e-ab4a-e5c839d46dc3"
      },
      "source": [
        "print(train_images.shape)\n",
        "print(train_labels.shape)"
      ],
      "execution_count": null,
      "outputs": [
        {
          "output_type": "stream",
          "text": [
            "(60000, 28, 28)\n",
            "(60000,)\n"
          ],
          "name": "stdout"
        }
      ]
    },
    {
      "cell_type": "code",
      "metadata": {
        "colab": {
          "base_uri": "https://localhost:8080/"
        },
        "id": "WTMSJLlxIeUz",
        "outputId": "ffd0493c-9799-427d-b8c5-7a57e80fdfab"
      },
      "source": [
        "train_images[0]"
      ],
      "execution_count": null,
      "outputs": [
        {
          "output_type": "execute_result",
          "data": {
            "text/plain": [
              "array([[  0,   0,   0,   0,   0,   0,   0,   0,   0,   0,   0,   0,   0,\n",
              "          0,   0,   0,   0,   0,   0,   0,   0,   0,   0,   0,   0,   0,\n",
              "          0,   0],\n",
              "       [  0,   0,   0,   0,   0,   0,   0,   0,   0,   0,   0,   0,   0,\n",
              "          0,   0,   0,   0,   0,   0,   0,   0,   0,   0,   0,   0,   0,\n",
              "          0,   0],\n",
              "       [  0,   0,   0,   0,   0,   0,   0,   0,   0,   0,   0,   0,   0,\n",
              "          0,   0,   0,   0,   0,   0,   0,   0,   0,   0,   0,   0,   0,\n",
              "          0,   0],\n",
              "       [  0,   0,   0,   0,   0,   0,   0,   0,   0,   0,   0,   0,   0,\n",
              "          0,   0,   0,   0,   0,   0,   0,   0,   0,   0,   0,   0,   0,\n",
              "          0,   0],\n",
              "       [  0,   0,   0,   0,   0,   0,   0,   0,   0,   0,   0,   0,   0,\n",
              "          0,   0,   0,   0,   0,   0,   0,   0,   0,   0,   0,   0,   0,\n",
              "          0,   0],\n",
              "       [  0,   0,   0,   0,   0,   0,   0,   0,   0,   0,   0,   0,   3,\n",
              "         18,  18,  18, 126, 136, 175,  26, 166, 255, 247, 127,   0,   0,\n",
              "          0,   0],\n",
              "       [  0,   0,   0,   0,   0,   0,   0,   0,  30,  36,  94, 154, 170,\n",
              "        253, 253, 253, 253, 253, 225, 172, 253, 242, 195,  64,   0,   0,\n",
              "          0,   0],\n",
              "       [  0,   0,   0,   0,   0,   0,   0,  49, 238, 253, 253, 253, 253,\n",
              "        253, 253, 253, 253, 251,  93,  82,  82,  56,  39,   0,   0,   0,\n",
              "          0,   0],\n",
              "       [  0,   0,   0,   0,   0,   0,   0,  18, 219, 253, 253, 253, 253,\n",
              "        253, 198, 182, 247, 241,   0,   0,   0,   0,   0,   0,   0,   0,\n",
              "          0,   0],\n",
              "       [  0,   0,   0,   0,   0,   0,   0,   0,  80, 156, 107, 253, 253,\n",
              "        205,  11,   0,  43, 154,   0,   0,   0,   0,   0,   0,   0,   0,\n",
              "          0,   0],\n",
              "       [  0,   0,   0,   0,   0,   0,   0,   0,   0,  14,   1, 154, 253,\n",
              "         90,   0,   0,   0,   0,   0,   0,   0,   0,   0,   0,   0,   0,\n",
              "          0,   0],\n",
              "       [  0,   0,   0,   0,   0,   0,   0,   0,   0,   0,   0, 139, 253,\n",
              "        190,   2,   0,   0,   0,   0,   0,   0,   0,   0,   0,   0,   0,\n",
              "          0,   0],\n",
              "       [  0,   0,   0,   0,   0,   0,   0,   0,   0,   0,   0,  11, 190,\n",
              "        253,  70,   0,   0,   0,   0,   0,   0,   0,   0,   0,   0,   0,\n",
              "          0,   0],\n",
              "       [  0,   0,   0,   0,   0,   0,   0,   0,   0,   0,   0,   0,  35,\n",
              "        241, 225, 160, 108,   1,   0,   0,   0,   0,   0,   0,   0,   0,\n",
              "          0,   0],\n",
              "       [  0,   0,   0,   0,   0,   0,   0,   0,   0,   0,   0,   0,   0,\n",
              "         81, 240, 253, 253, 119,  25,   0,   0,   0,   0,   0,   0,   0,\n",
              "          0,   0],\n",
              "       [  0,   0,   0,   0,   0,   0,   0,   0,   0,   0,   0,   0,   0,\n",
              "          0,  45, 186, 253, 253, 150,  27,   0,   0,   0,   0,   0,   0,\n",
              "          0,   0],\n",
              "       [  0,   0,   0,   0,   0,   0,   0,   0,   0,   0,   0,   0,   0,\n",
              "          0,   0,  16,  93, 252, 253, 187,   0,   0,   0,   0,   0,   0,\n",
              "          0,   0],\n",
              "       [  0,   0,   0,   0,   0,   0,   0,   0,   0,   0,   0,   0,   0,\n",
              "          0,   0,   0,   0, 249, 253, 249,  64,   0,   0,   0,   0,   0,\n",
              "          0,   0],\n",
              "       [  0,   0,   0,   0,   0,   0,   0,   0,   0,   0,   0,   0,   0,\n",
              "          0,  46, 130, 183, 253, 253, 207,   2,   0,   0,   0,   0,   0,\n",
              "          0,   0],\n",
              "       [  0,   0,   0,   0,   0,   0,   0,   0,   0,   0,   0,   0,  39,\n",
              "        148, 229, 253, 253, 253, 250, 182,   0,   0,   0,   0,   0,   0,\n",
              "          0,   0],\n",
              "       [  0,   0,   0,   0,   0,   0,   0,   0,   0,   0,  24, 114, 221,\n",
              "        253, 253, 253, 253, 201,  78,   0,   0,   0,   0,   0,   0,   0,\n",
              "          0,   0],\n",
              "       [  0,   0,   0,   0,   0,   0,   0,   0,  23,  66, 213, 253, 253,\n",
              "        253, 253, 198,  81,   2,   0,   0,   0,   0,   0,   0,   0,   0,\n",
              "          0,   0],\n",
              "       [  0,   0,   0,   0,   0,   0,  18, 171, 219, 253, 253, 253, 253,\n",
              "        195,  80,   9,   0,   0,   0,   0,   0,   0,   0,   0,   0,   0,\n",
              "          0,   0],\n",
              "       [  0,   0,   0,   0,  55, 172, 226, 253, 253, 253, 253, 244, 133,\n",
              "         11,   0,   0,   0,   0,   0,   0,   0,   0,   0,   0,   0,   0,\n",
              "          0,   0],\n",
              "       [  0,   0,   0,   0, 136, 253, 253, 253, 212, 135, 132,  16,   0,\n",
              "          0,   0,   0,   0,   0,   0,   0,   0,   0,   0,   0,   0,   0,\n",
              "          0,   0],\n",
              "       [  0,   0,   0,   0,   0,   0,   0,   0,   0,   0,   0,   0,   0,\n",
              "          0,   0,   0,   0,   0,   0,   0,   0,   0,   0,   0,   0,   0,\n",
              "          0,   0],\n",
              "       [  0,   0,   0,   0,   0,   0,   0,   0,   0,   0,   0,   0,   0,\n",
              "          0,   0,   0,   0,   0,   0,   0,   0,   0,   0,   0,   0,   0,\n",
              "          0,   0],\n",
              "       [  0,   0,   0,   0,   0,   0,   0,   0,   0,   0,   0,   0,   0,\n",
              "          0,   0,   0,   0,   0,   0,   0,   0,   0,   0,   0,   0,   0,\n",
              "          0,   0]], dtype=uint8)"
            ]
          },
          "metadata": {
            "tags": []
          },
          "execution_count": 8
        }
      ]
    },
    {
      "cell_type": "code",
      "metadata": {
        "colab": {
          "base_uri": "https://localhost:8080/",
          "height": 265
        },
        "id": "nc3KLJAQIq2o",
        "outputId": "165c62c2-484c-47c4-bd45-4c933f27f875"
      },
      "source": [
        "plt.figure()\n",
        "plt.imshow(train_images[0])\n",
        "plt.colorbar()\n",
        "plt.grid(False)\n",
        "plt.show()"
      ],
      "execution_count": null,
      "outputs": [
        {
          "output_type": "display_data",
          "data": {
            "image/png": "[encoded data removed]",
            "text/plain": [
              "<Figure size 432x288 with 2 Axes>"
            ]
          },
          "metadata": {
            "tags": [],
            "needs_background": "light"
          }
        }
      ]
    },
    {
      "cell_type": "code",
      "metadata": {
        "colab": {
          "base_uri": "https://localhost:8080/"
        },
        "id": "XU-6IWWVI8aR",
        "outputId": "45b7f4d9-02d3-4a43-aac3-e71c93869967"
      },
      "source": [
        "train_labels[0]"
      ],
      "execution_count": null,
      "outputs": [
        {
          "output_type": "execute_result",
          "data": {
            "text/plain": [
              "5"
            ]
          },
          "metadata": {
            "tags": []
          },
          "execution_count": 10
        }
      ]
    },
    {
      "cell_type": "markdown",
      "metadata": {
        "id": "L6vEeLJ4JC1Y"
      },
      "source": [
        "## 1-2 입력데이터 전처리"
      ]
    },
    {
      "cell_type": "code",
      "metadata": {
        "id": "bgiNQ5KHI-e4"
      },
      "source": [
        "# (60000,28,28) ==> (60000, 28*28)\n",
        "train_images = train_images.reshape((60000,28*28))"
      ],
      "execution_count": null,
      "outputs": []
    },
    {
      "cell_type": "code",
      "metadata": {
        "colab": {
          "base_uri": "https://localhost:8080/"
        },
        "id": "6mZJxT0uJgiZ",
        "outputId": "b8cdbddc-da17-4195-e0ac-bdbb504b8ce8"
      },
      "source": [
        "print(train_images.shape)"
      ],
      "execution_count": null,
      "outputs": [
        {
          "output_type": "stream",
          "text": [
            "(60000, 784)\n"
          ],
          "name": "stdout"
        }
      ]
    },
    {
      "cell_type": "code",
      "metadata": {
        "colab": {
          "base_uri": "https://localhost:8080/"
        },
        "id": "HCX_IlFgJkLI",
        "outputId": "710f128f-e022-43ed-8462-232723b20b50"
      },
      "source": [
        "print(test_images.shape)"
      ],
      "execution_count": null,
      "outputs": [
        {
          "output_type": "stream",
          "text": [
            "(10000, 28, 28)\n"
          ],
          "name": "stdout"
        }
      ]
    },
    {
      "cell_type": "code",
      "metadata": {
        "id": "Wklox158JnqJ"
      },
      "source": [
        "test_images = test_images.reshape((10000,28*28))"
      ],
      "execution_count": null,
      "outputs": []
    },
    {
      "cell_type": "code",
      "metadata": {
        "colab": {
          "base_uri": "https://localhost:8080/"
        },
        "id": "da2F0Yi8JtGE",
        "outputId": "e9848401-45fe-477a-ddda-085ad15f4dcd"
      },
      "source": [
        "print(test_images.shape)"
      ],
      "execution_count": null,
      "outputs": [
        {
          "output_type": "stream",
          "text": [
            "(10000, 784)\n"
          ],
          "name": "stdout"
        }
      ]
    },
    {
      "cell_type": "markdown",
      "metadata": {
        "id": "YEP5HhsYKKWg"
      },
      "source": [
        "##2 DNN 모델 디자인"
      ]
    },
    {
      "cell_type": "code",
      "metadata": {
        "id": "dtG7y-STKPhu"
      },
      "source": [
        "from tensorflow.keras import models, layers"
      ],
      "execution_count": null,
      "outputs": []
    },
    {
      "cell_type": "code",
      "metadata": {
        "id": "P8C1ZeCtKvPa"
      },
      "source": [
        "model = models.Sequential()\n",
        "#hidden layer에 256개 퍼셉트론 생성\n",
        "model.add(layers.Dense(units = 256, activation = 'relu',\n",
        "                       input_shape = (28*28,)))\n",
        "model.add(layers.Dense(units = 10, activation = 'softmax'))"
      ],
      "execution_count": null,
      "outputs": []
    },
    {
      "cell_type": "code",
      "metadata": {
        "colab": {
          "base_uri": "https://localhost:8080/"
        },
        "id": "KtOUtqyMLb3f",
        "outputId": "3f0cd5d8-a0b6-40c1-e81f-193ff1c3f6b3"
      },
      "source": [
        "model.summary()"
      ],
      "execution_count": null,
      "outputs": [
        {
          "output_type": "stream",
          "text": [
            "Model: \"sequential_3\"\n",
            "_________________________________________________________________\n",
            "Layer (type)                 Output Shape              Param #   \n",
            "=================================================================\n",
            "dense_2 (Dense)              (None, 256)               200960    \n",
            "_________________________________________________________________\n",
            "dense_3 (Dense)              (None, 10)                2570      \n",
            "=================================================================\n",
            "Total params: 203,530\n",
            "Trainable params: 203,530\n",
            "Non-trainable params: 0\n",
            "_________________________________________________________________\n"
          ],
          "name": "stdout"
        }
      ]
    },
    {
      "cell_type": "code",
      "metadata": {
        "colab": {
          "base_uri": "https://localhost:8080/"
        },
        "id": "0sJ2dBZgLilY",
        "outputId": "9caa61b3-5778-4527-836e-73e5236cbbb0"
      },
      "source": [
        "w_cnt = 28*28*256\n",
        "b_cnt = 256\n",
        "w_cnt +  b_cnt"
      ],
      "execution_count": null,
      "outputs": [
        {
          "output_type": "execute_result",
          "data": {
            "text/plain": [
              "200960"
            ]
          },
          "metadata": {
            "tags": []
          },
          "execution_count": 25
        }
      ]
    },
    {
      "cell_type": "markdown",
      "metadata": {
        "id": "f5rbgx-yMD93"
      },
      "source": [
        "#3 모델의 학습정보 설정"
      ]
    },
    {
      "cell_type": "code",
      "metadata": {
        "id": "4-oHHxFwLnyb"
      },
      "source": [
        "#loss, optimizer, metrics\n",
        "model.compile(optimizer='rmsprop', loss='sparse_categorical_crossentropy', metrics=['accuracy'])"
      ],
      "execution_count": null,
      "outputs": []
    },
    {
      "cell_type": "markdown",
      "metadata": {
        "id": "67lCBb3BMgFY"
      },
      "source": [
        "#4 모델에 input, target 데이터 연결 후 학습"
      ]
    },
    {
      "cell_type": "code",
      "metadata": {
        "colab": {
          "base_uri": "https://localhost:8080/"
        },
        "id": "6Qn5YiDbMdn3",
        "outputId": "e1b09914-79a9-4370-fb7c-d7968b8a9b85"
      },
      "source": [
        "history = model.fit(x=train_images, y=train_labels, epochs=30, batch_size=128,\n",
        "                    validation_split=0.2)"
      ],
      "execution_count": null,
      "outputs": [
        {
          "output_type": "stream",
          "text": [
            "Epoch 1/30\n",
            "375/375 [==============================] - 4s 8ms/step - loss: 6.2242 - accuracy: 0.8790 - val_loss: 1.2138 - val_accuracy: 0.9272\n",
            "Epoch 2/30\n",
            "375/375 [==============================] - 3s 7ms/step - loss: 0.8812 - accuracy: 0.9408 - val_loss: 0.8619 - val_accuracy: 0.9399\n",
            "Epoch 3/30\n",
            "375/375 [==============================] - 3s 8ms/step - loss: 0.5151 - accuracy: 0.9583 - val_loss: 0.7616 - val_accuracy: 0.9517\n",
            "Epoch 4/30\n",
            "375/375 [==============================] - 3s 8ms/step - loss: 0.3760 - accuracy: 0.9675 - val_loss: 0.8369 - val_accuracy: 0.9542\n",
            "Epoch 5/30\n",
            "375/375 [==============================] - 3s 8ms/step - loss: 0.3249 - accuracy: 0.9718 - val_loss: 0.7021 - val_accuracy: 0.9600\n",
            "Epoch 6/30\n",
            "375/375 [==============================] - 3s 8ms/step - loss: 0.2660 - accuracy: 0.9758 - val_loss: 0.6963 - val_accuracy: 0.9613\n",
            "Epoch 7/30\n",
            "375/375 [==============================] - 3s 8ms/step - loss: 0.2308 - accuracy: 0.9789 - val_loss: 0.8492 - val_accuracy: 0.9629\n",
            "Epoch 8/30\n",
            "375/375 [==============================] - 3s 8ms/step - loss: 0.2357 - accuracy: 0.9809 - val_loss: 0.7715 - val_accuracy: 0.9668\n",
            "Epoch 9/30\n",
            "375/375 [==============================] - 3s 7ms/step - loss: 0.1765 - accuracy: 0.9840 - val_loss: 0.8010 - val_accuracy: 0.9637\n",
            "Epoch 10/30\n",
            "375/375 [==============================] - 3s 7ms/step - loss: 0.1834 - accuracy: 0.9844 - val_loss: 0.7317 - val_accuracy: 0.9688\n",
            "Epoch 11/30\n",
            "375/375 [==============================] - 3s 7ms/step - loss: 0.1544 - accuracy: 0.9871 - val_loss: 0.8629 - val_accuracy: 0.9632\n",
            "Epoch 12/30\n",
            "375/375 [==============================] - 3s 7ms/step - loss: 0.1534 - accuracy: 0.9874 - val_loss: 0.8709 - val_accuracy: 0.9683\n",
            "Epoch 13/30\n",
            "375/375 [==============================] - 3s 8ms/step - loss: 0.1420 - accuracy: 0.9883 - val_loss: 0.9632 - val_accuracy: 0.9671\n",
            "Epoch 14/30\n",
            "375/375 [==============================] - 3s 7ms/step - loss: 0.1447 - accuracy: 0.9883 - val_loss: 0.9657 - val_accuracy: 0.9653\n",
            "Epoch 15/30\n",
            "375/375 [==============================] - 3s 7ms/step - loss: 0.1248 - accuracy: 0.9906 - val_loss: 0.8517 - val_accuracy: 0.9705\n",
            "Epoch 16/30\n",
            "375/375 [==============================] - 3s 7ms/step - loss: 0.1240 - accuracy: 0.9908 - val_loss: 0.8462 - val_accuracy: 0.9742\n",
            "Epoch 17/30\n",
            "375/375 [==============================] - 3s 8ms/step - loss: 0.1147 - accuracy: 0.9913 - val_loss: 0.9352 - val_accuracy: 0.9706\n",
            "Epoch 18/30\n",
            "375/375 [==============================] - 3s 8ms/step - loss: 0.1034 - accuracy: 0.9920 - val_loss: 0.8970 - val_accuracy: 0.9728\n",
            "Epoch 19/30\n",
            "375/375 [==============================] - 3s 8ms/step - loss: 0.0929 - accuracy: 0.9924 - val_loss: 0.8912 - val_accuracy: 0.9726\n",
            "Epoch 20/30\n",
            "375/375 [==============================] - 3s 8ms/step - loss: 0.0986 - accuracy: 0.9926 - val_loss: 0.9147 - val_accuracy: 0.9730\n",
            "Epoch 21/30\n",
            "375/375 [==============================] - 3s 8ms/step - loss: 0.0842 - accuracy: 0.9936 - val_loss: 1.0427 - val_accuracy: 0.9716\n",
            "Epoch 22/30\n",
            "375/375 [==============================] - 3s 7ms/step - loss: 0.0884 - accuracy: 0.9936 - val_loss: 0.9967 - val_accuracy: 0.9731\n",
            "Epoch 23/30\n",
            "375/375 [==============================] - 3s 7ms/step - loss: 0.0948 - accuracy: 0.9938 - val_loss: 1.1022 - val_accuracy: 0.9730\n",
            "Epoch 24/30\n",
            "375/375 [==============================] - 3s 8ms/step - loss: 0.0785 - accuracy: 0.9940 - val_loss: 1.0603 - val_accuracy: 0.9728\n",
            "Epoch 25/30\n",
            "375/375 [==============================] - 3s 8ms/step - loss: 0.0839 - accuracy: 0.9941 - val_loss: 1.1654 - val_accuracy: 0.9695\n",
            "Epoch 26/30\n",
            "375/375 [==============================] - 3s 7ms/step - loss: 0.0688 - accuracy: 0.9949 - val_loss: 1.0777 - val_accuracy: 0.9728\n",
            "Epoch 27/30\n",
            "375/375 [==============================] - 3s 7ms/step - loss: 0.0617 - accuracy: 0.9957 - val_loss: 1.1113 - val_accuracy: 0.9716\n",
            "Epoch 28/30\n",
            "375/375 [==============================] - 3s 7ms/step - loss: 0.0749 - accuracy: 0.9948 - val_loss: 1.2063 - val_accuracy: 0.9728\n",
            "Epoch 29/30\n",
            "375/375 [==============================] - 3s 7ms/step - loss: 0.0712 - accuracy: 0.9952 - val_loss: 1.0801 - val_accuracy: 0.9727\n",
            "Epoch 30/30\n",
            "375/375 [==============================] - 3s 7ms/step - loss: 0.0654 - accuracy: 0.9955 - val_loss: 1.1189 - val_accuracy: 0.9727\n"
          ],
          "name": "stdout"
        }
      ]
    },
    {
      "cell_type": "markdown",
      "metadata": {
        "id": "ywPH6bNLNYyu"
      },
      "source": [
        "#학습 과정 시각화 및 테스트"
      ]
    },
    {
      "cell_type": "code",
      "metadata": {
        "id": "E3zFcP2FLoGx"
      },
      "source": [
        "acc = history.history['accuracy']\n",
        "val_acc = history.history['val_accuracy']\n",
        "loss = history.history['loss']\n",
        "val_loss = history.history['val_loss']"
      ],
      "execution_count": null,
      "outputs": []
    },
    {
      "cell_type": "code",
      "metadata": {
        "colab": {
          "base_uri": "https://localhost:8080/"
        },
        "id": "iKfnhQbjN-Cr",
        "outputId": "8db3fe6d-2223-47bf-b06a-4e81c921869a"
      },
      "source": [
        "acc"
      ],
      "execution_count": null,
      "outputs": [
        {
          "output_type": "execute_result",
          "data": {
            "text/plain": [
              "[0.8790416717529297,\n",
              " 0.940791666507721,\n",
              " 0.9583125114440918,\n",
              " 0.9674583077430725,\n",
              " 0.971833348274231,\n",
              " 0.9758333563804626,\n",
              " 0.9789166450500488,\n",
              " 0.9809374809265137,\n",
              " 0.9839583039283752,\n",
              " 0.9843541383743286,\n",
              " 0.9870625138282776,\n",
              " 0.987375020980835,\n",
              " 0.9883333444595337,\n",
              " 0.9883333444595337,\n",
              " 0.9905624985694885,\n",
              " 0.9907708168029785,\n",
              " 0.9913125038146973,\n",
              " 0.992020845413208,\n",
              " 0.99239581823349,\n",
              " 0.9926041960716248,\n",
              " 0.9935833215713501,\n",
              " 0.9936249852180481,\n",
              " 0.9937708377838135,\n",
              " 0.9940000176429749,\n",
              " 0.9941250085830688,\n",
              " 0.9948958158493042,\n",
              " 0.9956874847412109,\n",
              " 0.9948333501815796,\n",
              " 0.995187520980835,\n",
              " 0.995520830154419]"
            ]
          },
          "metadata": {
            "tags": []
          },
          "execution_count": 30
        }
      ]
    },
    {
      "cell_type": "code",
      "metadata": {
        "colab": {
          "base_uri": "https://localhost:8080/",
          "height": 281
        },
        "id": "oS6zYyIMN_Nh",
        "outputId": "3c4b9695-2554-4906-d13c-1ca4db33b598"
      },
      "source": [
        "epochs = range(len(acc))\n",
        "\n",
        "plt.plot(epochs, acc, 'bo', label='Training acc')\n",
        "plt.plot(epochs, val_acc, 'b', label='Validation acc')\n",
        "plt.title('Training and validation accuracy')\n",
        "plt.legend()\n",
        "\n",
        "plt.show()"
      ],
      "execution_count": null,
      "outputs": [
        {
          "output_type": "display_data",
          "data": {
            "image/png": "[encoded data removed]",
            "text/plain": [
              "<Figure size 432x288 with 1 Axes>"
            ]
          },
          "metadata": {
            "tags": [],
            "needs_background": "light"
          }
        }
      ]
    },
    {
      "cell_type": "code",
      "metadata": {
        "colab": {
          "base_uri": "https://localhost:8080/",
          "height": 281
        },
        "id": "JebLhkoTOhCE",
        "outputId": "6bd076f4-0cb2-451d-a40a-13256706c28f"
      },
      "source": [
        "plt.plot(epochs, loss, 'bo', label='Training loss')\n",
        "plt.plot(epochs, val_loss, 'b', label='Validation loss')\n",
        "plt.title('Training and validation loss')\n",
        "plt.legend()\n",
        "\n",
        "plt.show()"
      ],
      "execution_count": null,
      "outputs": [
        {
          "output_type": "display_data",
          "data": {
            "image/png": "[encoded data removed]",
            "text/plain": [
              "<Figure size 432x288 with 1 Axes>"
            ]
          },
          "metadata": {
            "tags": [],
            "needs_background": "light"
          }
        }
      ]
    },
    {
      "cell_type": "code",
      "metadata": {
        "colab": {
          "base_uri": "https://localhost:8080/"
        },
        "id": "Vb7lUkomOvLF",
        "outputId": "b0e0b87a-a64a-4a1c-dcb0-212b693b5fd1"
      },
      "source": [
        "#모델 성능 테스트\n",
        "test_loss, test_acc = model.evaluate(x=test_images, y=test_labels)"
      ],
      "execution_count": null,
      "outputs": [
        {
          "output_type": "stream",
          "text": [
            "313/313 [==============================] - 1s 2ms/step - loss: 0.9919 - accuracy: 0.9763\n"
          ],
          "name": "stdout"
        }
      ]
    },
    {
      "cell_type": "code",
      "metadata": {
        "id": "ceV25r9yO_Aq"
      },
      "source": [
        "import numpy as np"
      ],
      "execution_count": null,
      "outputs": []
    },
    {
      "cell_type": "code",
      "metadata": {
        "id": "99JdOYxWPE4V"
      },
      "source": [
        "predict = model.predict(test_images[0].reshape((1,28*28)))"
      ],
      "execution_count": null,
      "outputs": []
    },
    {
      "cell_type": "code",
      "metadata": {
        "colab": {
          "base_uri": "https://localhost:8080/"
        },
        "id": "W927CNw2PweX",
        "outputId": "7b29f39d-a187-433d-8c55-c71f6726cfbe"
      },
      "source": [
        "predict"
      ],
      "execution_count": null,
      "outputs": [
        {
          "output_type": "execute_result",
          "data": {
            "text/plain": [
              "array([[0., 0., 0., 0., 0., 0., 0., 1., 0., 0.]], dtype=float32)"
            ]
          },
          "metadata": {
            "tags": []
          },
          "execution_count": 37
        }
      ]
    },
    {
      "cell_type": "code",
      "metadata": {
        "colab": {
          "base_uri": "https://localhost:8080/"
        },
        "id": "YfEjmM3rP297",
        "outputId": "a50b7b3a-1b20-4c22-ace8-6d5f505389f7"
      },
      "source": [
        "print(np.argmax(predict[0]))"
      ],
      "execution_count": null,
      "outputs": [
        {
          "output_type": "stream",
          "text": [
            "7\n"
          ],
          "name": "stdout"
        }
      ]
    },
    {
      "cell_type": "code",
      "metadata": {
        "colab": {
          "base_uri": "https://localhost:8080/",
          "height": 265
        },
        "id": "WKbMhv-3PLzQ",
        "outputId": "b43fcbf1-e5ed-4381-8457-75aa600914e9"
      },
      "source": [
        "plt.figure()\n",
        "plt.imshow(test_images[0].reshape(28,28))\n",
        "plt.colorbar()\n",
        "plt.grid(False)\n",
        "plt.show()"
      ],
      "execution_count": null,
      "outputs": [
        {
          "output_type": "display_data",
          "data": {
            "image/png": "[encoded data removed]",
            "text/plain": [
              "<Figure size 432x288 with 2 Axes>"
            ]
          },
          "metadata": {
            "tags": [],
            "needs_background": "light"
          }
        }
      ]
    }
  ]
}